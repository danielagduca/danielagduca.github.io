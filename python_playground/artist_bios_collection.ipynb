{
 "cells": [
  {
   "cell_type": "markdown",
   "metadata": {},
   "source": [
    "# Collecting artist data"
   ]
  },
  {
   "cell_type": "markdown",
   "metadata": {},
   "source": [
    "## Activity\n",
    "30 March 2020:\n",
    "- collected the list of artist names\n",
    "- used python to create the list of urls\n",
    "- learned some regex and lambda\n",
    "- requested the data and used except to skip the urls that didn't have the bio content\n",
    "- created a data frame using pandas with that contains the artis names + their bios from artnet\n",
    "- pickled the files"
   ]
  },
  {
   "cell_type": "markdown",
   "metadata": {},
   "source": [
    "## Introduction"
   ]
  },
  {
   "cell_type": "markdown",
   "metadata": {},
   "source": [
    "This notebook is based on https://github.com/adashofdata/nlp-in-python-tutorial, thank you Alice Zhao\n",
    "\n",
    "Steps:\n",
    "1. **Getting the data - **in this case, we'll be scraping data from a some art websites\n",
    "2. **Cleaning the data - **we will walk through popular text pre-processing techniques\n",
    "3. **Organizing the data - **we will organize the cleaned data into a way that is easy to input into other algorithms\n",
    "\n",
    "The output of this notebook will be clean, organized data in two standard text formats:\n",
    "\n",
    "1. **Corpus** - a collection of text\n",
    "2. **Document-Term Matrix** - word counts in matrix format"
   ]
  },
  {
   "cell_type": "markdown",
   "metadata": {},
   "source": [
    "## Problem Statement"
   ]
  },
  {
   "cell_type": "markdown",
   "metadata": {},
   "source": [
    "I'd like to find out how current artists describe themselves, and whether that has an impact on their popularity."
   ]
  },
  {
   "cell_type": "markdown",
   "metadata": {},
   "source": [
    "## Getting The Data"
   ]
  },
  {
   "cell_type": "markdown",
   "metadata": {},
   "source": [
    "I will use the artnet.com database to import the artist statements or brief descriptions of their style and work. I presume most of these have been drafted over time and by the galleries that represent them. Since I am only interested in living artists, I will look for top lists of living painters today. According to [mentalfloss](https://www.mentalfloss.com/article/80830/100-most-collectible-living-artists)... these are:\n",
    "Top 100 Living Artists (2011-2016)\n",
    "\n",
    "Gerhard Richter (b. 1932)\n",
    "Jeff Koons (b. 1955)\n",
    "Christopher Wool (b. 1955)\n",
    "Cul Ruzhuo (b. 1944)\n",
    "Zeng Fanzhi (b. 1964)\n",
    "Yayoi Kusama (b. 1929)\n",
    "Richard Prince (b. 1949)\n",
    "Peter Doig (b. 1959)\n",
    "Fan Zeng (b. 1938)\n",
    "Ed Ruscha (b. 1937)\n",
    "Damien Hirst (b. 1965)\n",
    "Zhou Chunya (b. 1955)\n",
    "Zhang Xiaogang (b. 1958)\n",
    "Robert Ryman (b. 1930)\n",
    "Wayne Thiebaud (b. 1920)\n",
    "He Jiaying (b. 1957)\n",
    "Huang Yongyu (b. 1924)\n",
    "Fernando Bolero (b. 1932)\n",
    "Frank Stella (b. 1936)\n",
    "Rudolf Stingel (b. 1956)\n",
    "Jasper Johns (b. 1930)\n",
    "Yoshitomo Nara (b. 1959)\n",
    "Liu Wei (b. 1965)\n",
    "Ju Ming (b. 1938)\n",
    "Pierre Soulages (b. 1919)\n",
    "Georg Baselitz (b. 1938)\n",
    "Lee Wan (b. 1936)\n",
    "David Hockney (b. 1937)\n",
    "Anselm Kiefer (b. 1945)\n",
    "Enrico Castellani (b. 1930)\n",
    "Cindy Sherman (b. 1954)\n",
    "Anish Kapoor (b. 1954)\n",
    "Mark Grotjahn (b. 1968)\n",
    "Takashi Murakaml (b. 1962)\n",
    "Luo Zhongli (b. 1949)\n",
    "Robert Indiana (b. 1928)\n",
    "Andreas Gursky (b. 1955)\n",
    "Michelangelo Pistoletto (b. 1933)\n",
    "Wade Guyton (b. 1972)\n",
    "Wang Yidong (b. 1955)\n",
    "Chen Peiqiu (b. 1923)\n",
    "Brice Marden (b. 1938)\n",
    "Jin Shangyi (b. 1934)\n",
    "Fang Lijun (b. 1963)\n",
    "Frank Auerbach (b. 1931)\n",
    "Yang Feiyun (b. 1954)\n",
    "Wang Mingming (b. 1952)\n",
    "Shi Guoliang (b. 1956)\n",
    "Liu DaWei (b. 1945)\n",
    "Mark Tansey (b. 1949)\n",
    "Gunther Uecker (b. 1930)\n",
    "Jia Youfu (b. 1942)\n",
    "Mark Bradford (b. 1961)\n",
    "Ai Xuan (b. 1947)\n",
    "Liu Ye (b. 1964)\n",
    "Maurizio Cahalan (b. 1960)\n",
    "Syed Haider Raza (b. 1922)\n",
    "George Condo (b. 1957)\n",
    "John Currin (b. 1962)\n",
    "Glenn Brown (b. 1966)\n",
    "Liu Xiaodong (b. 1963)\n",
    "Urs Fischer (b. 1973)\n",
    "Miquel Barcelo (b. 1957)\n",
    "Thomas Schutte (b. 1954)\n",
    "Liu Kuo Sung (b. 1932)\n",
    "Glenn Ligon (b. 1960)\n",
    "Ai Weiwei (b. 1957)\n",
    "Sean Scully (b. 1945)\n",
    "Fang Chuxiong (b. 1950)\n",
    "Bruce Nauman (b. 1941)\n",
    "Wang Ziwu (b. 1936)\n",
    "Yue Minjun (b. 1962)\n",
    "Albert Oehlen (b. 1954)\n",
    "Antony Gormley (b. 1950)\n",
    "Xue Mang (b. 1956)\n",
    "Shang Yang (b. 1942)\n",
    "David Hammons (b. 1943)\n",
    "Chung Sang-Hwa (b. 1932)\n",
    "Zhou Yansheng (b. 1942)\n",
    "Liu Wenxi (b. 1933)\n",
    "Julie Mehretu (b. 1970)\n",
    "Fan Yang (b. 1955)\n",
    "Lin Yong (b. 1942)\n",
    "Richard Serra (b. 1939)\n",
    "Marc Quinn (b. 1964)\n",
    "Banksy (b. 1974)\n",
    "Tian Liming (b. 1955)\n",
    "Xu Lele (b. 1955)\n",
    "Wang Hualqing (b. 1944)\n",
    "Sterling Ruby (b. 1972)\n",
    "Yang Zhiguang (b. 1930)\n",
    "Wang Guangyi (b. 1957)\n",
    "Neo Rauch (b. 1960)\n",
    "Gilbert & George\n",
    "Robert Longo (b. 1953)\n",
    "Marlene Dumas (b. 1953)\n",
    "Ren Zhong (b. 1976)\n",
    "Bridget Riley (b. 1931)\n",
    "Howard Terpning (b. 1927)\n",
    "Tauba Auerbach (b. 1981)\n",
    "\n",
    "\n",
    "Let's start with the first 10; skip Cul Ruzhuo who doesn't exist on artnet."
   ]
  },
  {
   "cell_type": "code",
   "execution_count": 121,
   "metadata": {},
   "outputs": [
    {
     "name": "stdout",
     "output_type": "stream",
     "text": [
      "['gerhard-richter', 'jeff-koons', 'christopher-wool', 'cul-ruzhuo', 'zeng-fanzhi', 'yayoi-kusama', 'richard-prince', 'peter-doig', 'fan-zeng', 'ed-ruscha', 'damien-hirst', 'zhou-chunya', 'zhang-xiaogang', 'robert-ryman', 'wayne-thiebaud', 'he-jiaying', 'huang-yongyu', 'fernando-bolero', 'frank-stella', 'rudolf-stingel', 'jasper-johns', 'yoshitomo-nara', 'liu-wei', 'ju-ming', 'pierre-soulages', 'georg-baselitz', 'lee-wan', 'david-hockney', 'anselm-kiefer', 'enrico-castellani', 'cindy-sherman', 'anish-kapoor', 'mark-grotjahn', 'takashi-murakaml', 'luo-zhongli', 'robert-indiana', 'andreas-gursky', 'michelangelo-pistoletto', 'wade-guyton', 'wang-yidong', 'chen-peiqiu', 'brice-marden', 'jin-shangyi', 'fang-lijun', 'frank-auerbach', 'yang-feiyun', 'wang-mingming', 'shi-guoliang', 'liu-dawei', 'mark-tansey', 'gunther-uecker', 'jia-youfu', 'mark-bradford', 'ai-xuan', 'liu-ye', 'maurizio-cahalan', 'syed-haider-raza', 'george-condo', 'john-currin', 'glenn-brown', 'liu-xiaodong', 'urs-fischer', 'miquel-barcelo', 'thomas-schutte', 'liu-kuo-sung', 'glenn-ligon', 'ai-weiwei', 'sean-scully', 'fang-chuxiong', 'bruce-nauman', 'wang-ziwu', 'yue-minjun', 'albert-oehlen', 'antony-gormley', 'xue-mang', 'shang-yang', 'david-hammons', 'chung-sang-hwa', 'zhou-yansheng', 'liu-wenxi', 'julie-mehretu', 'fan-yang', 'lin-yong', 'richard-serra', 'marc-quinn', 'banksy', 'tian-liming', 'xu-lele', 'wang-hualqing', 'sterling-ruby', 'yang-zhiguang', 'wang-guangyi', 'neo-rauch', 'gilbert-&-george-robert-longo', 'marlene-dumas', 'ren-zhong', 'bridget-riley', 'howard-terpning', 'tauba-auerbach', '']\n",
      "['http://www.artnet.com/artists/gerhard-richter', 'http://www.artnet.com/artists/jeff-koons', 'http://www.artnet.com/artists/christopher-wool', 'http://www.artnet.com/artists/cul-ruzhuo', 'http://www.artnet.com/artists/zeng-fanzhi', 'http://www.artnet.com/artists/yayoi-kusama', 'http://www.artnet.com/artists/richard-prince', 'http://www.artnet.com/artists/peter-doig', 'http://www.artnet.com/artists/fan-zeng', 'http://www.artnet.com/artists/ed-ruscha', 'http://www.artnet.com/artists/damien-hirst', 'http://www.artnet.com/artists/zhou-chunya', 'http://www.artnet.com/artists/zhang-xiaogang', 'http://www.artnet.com/artists/robert-ryman', 'http://www.artnet.com/artists/wayne-thiebaud', 'http://www.artnet.com/artists/he-jiaying', 'http://www.artnet.com/artists/huang-yongyu', 'http://www.artnet.com/artists/fernando-bolero', 'http://www.artnet.com/artists/frank-stella', 'http://www.artnet.com/artists/rudolf-stingel', 'http://www.artnet.com/artists/jasper-johns', 'http://www.artnet.com/artists/yoshitomo-nara', 'http://www.artnet.com/artists/liu-wei', 'http://www.artnet.com/artists/ju-ming', 'http://www.artnet.com/artists/pierre-soulages', 'http://www.artnet.com/artists/georg-baselitz', 'http://www.artnet.com/artists/lee-wan', 'http://www.artnet.com/artists/david-hockney', 'http://www.artnet.com/artists/anselm-kiefer', 'http://www.artnet.com/artists/enrico-castellani', 'http://www.artnet.com/artists/cindy-sherman', 'http://www.artnet.com/artists/anish-kapoor', 'http://www.artnet.com/artists/mark-grotjahn', 'http://www.artnet.com/artists/takashi-murakaml', 'http://www.artnet.com/artists/luo-zhongli', 'http://www.artnet.com/artists/robert-indiana', 'http://www.artnet.com/artists/andreas-gursky', 'http://www.artnet.com/artists/michelangelo-pistoletto', 'http://www.artnet.com/artists/wade-guyton', 'http://www.artnet.com/artists/wang-yidong', 'http://www.artnet.com/artists/chen-peiqiu', 'http://www.artnet.com/artists/brice-marden', 'http://www.artnet.com/artists/jin-shangyi', 'http://www.artnet.com/artists/fang-lijun', 'http://www.artnet.com/artists/frank-auerbach', 'http://www.artnet.com/artists/yang-feiyun', 'http://www.artnet.com/artists/wang-mingming', 'http://www.artnet.com/artists/shi-guoliang', 'http://www.artnet.com/artists/liu-dawei', 'http://www.artnet.com/artists/mark-tansey', 'http://www.artnet.com/artists/gunther-uecker', 'http://www.artnet.com/artists/jia-youfu', 'http://www.artnet.com/artists/mark-bradford', 'http://www.artnet.com/artists/ai-xuan', 'http://www.artnet.com/artists/liu-ye', 'http://www.artnet.com/artists/maurizio-cahalan', 'http://www.artnet.com/artists/syed-haider-raza', 'http://www.artnet.com/artists/george-condo', 'http://www.artnet.com/artists/john-currin', 'http://www.artnet.com/artists/glenn-brown', 'http://www.artnet.com/artists/liu-xiaodong', 'http://www.artnet.com/artists/urs-fischer', 'http://www.artnet.com/artists/miquel-barcelo', 'http://www.artnet.com/artists/thomas-schutte', 'http://www.artnet.com/artists/liu-kuo-sung', 'http://www.artnet.com/artists/glenn-ligon', 'http://www.artnet.com/artists/ai-weiwei', 'http://www.artnet.com/artists/sean-scully', 'http://www.artnet.com/artists/fang-chuxiong', 'http://www.artnet.com/artists/bruce-nauman', 'http://www.artnet.com/artists/wang-ziwu', 'http://www.artnet.com/artists/yue-minjun', 'http://www.artnet.com/artists/albert-oehlen', 'http://www.artnet.com/artists/antony-gormley', 'http://www.artnet.com/artists/xue-mang', 'http://www.artnet.com/artists/shang-yang', 'http://www.artnet.com/artists/david-hammons', 'http://www.artnet.com/artists/chung-sang-hwa', 'http://www.artnet.com/artists/zhou-yansheng', 'http://www.artnet.com/artists/liu-wenxi', 'http://www.artnet.com/artists/julie-mehretu', 'http://www.artnet.com/artists/fan-yang', 'http://www.artnet.com/artists/lin-yong', 'http://www.artnet.com/artists/richard-serra', 'http://www.artnet.com/artists/marc-quinn', 'http://www.artnet.com/artists/banksy', 'http://www.artnet.com/artists/tian-liming', 'http://www.artnet.com/artists/xu-lele', 'http://www.artnet.com/artists/wang-hualqing', 'http://www.artnet.com/artists/sterling-ruby', 'http://www.artnet.com/artists/yang-zhiguang', 'http://www.artnet.com/artists/wang-guangyi', 'http://www.artnet.com/artists/neo-rauch', 'http://www.artnet.com/artists/gilbert-&-george-robert-longo', 'http://www.artnet.com/artists/marlene-dumas', 'http://www.artnet.com/artists/ren-zhong', 'http://www.artnet.com/artists/bridget-riley', 'http://www.artnet.com/artists/howard-terpning', 'http://www.artnet.com/artists/tauba-auerbach', 'http://www.artnet.com/artists/']\n"
     ]
    }
   ],
   "source": [
    "import re\n",
    "import string\n",
    "\n",
    "names = \"Gerhard Richter (b. 1932) Jeff Koons (b. 1955) Christopher Wool (b. 1955) Cul Ruzhuo (b. 1944) Zeng Fanzhi (b. 1964) Yayoi Kusama (b. 1929) Richard Prince (b. 1949) Peter Doig (b. 1959) Fan Zeng (b. 1938) Ed Ruscha (b. 1937) Damien Hirst (b. 1965) Zhou Chunya (b. 1955) Zhang Xiaogang (b. 1958) Robert Ryman (b. 1930) Wayne Thiebaud (b. 1920) He Jiaying (b. 1957) Huang Yongyu (b. 1924) Fernando Bolero (b. 1932) Frank Stella (b. 1936) Rudolf Stingel (b. 1956) Jasper Johns (b. 1930) Yoshitomo Nara (b. 1959) Liu Wei (b. 1965) Ju Ming (b. 1938) Pierre Soulages (b. 1919) Georg Baselitz (b. 1938) Lee Wan (b. 1936) David Hockney (b. 1937) Anselm Kiefer (b. 1945) Enrico Castellani (b. 1930) Cindy Sherman (b. 1954) Anish Kapoor (b. 1954) Mark Grotjahn (b. 1968) Takashi Murakaml (b. 1962) Luo Zhongli (b. 1949) Robert Indiana (b. 1928) Andreas Gursky (b. 1955) Michelangelo Pistoletto (b. 1933) Wade Guyton (b. 1972) Wang Yidong (b. 1955) Chen Peiqiu (b. 1923) Brice Marden (b. 1938) Jin Shangyi (b. 1934) Fang Lijun (b. 1963) Frank Auerbach (b. 1931) Yang Feiyun (b. 1954) Wang Mingming (b. 1952) Shi Guoliang (b. 1956) Liu DaWei (b. 1945) Mark Tansey (b. 1949) Gunther Uecker (b. 1930) Jia Youfu (b. 1942) Mark Bradford (b. 1961) Ai Xuan (b. 1947) Liu Ye (b. 1964) Maurizio Cahalan (b. 1960) Syed Haider Raza (b. 1922) George Condo (b. 1957) John Currin (b. 1962) Glenn Brown (b. 1966) Liu Xiaodong (b. 1963) Urs Fischer (b. 1973) Miquel Barcelo (b. 1957) Thomas Schutte (b. 1954) Liu Kuo Sung (b. 1932) Glenn Ligon (b. 1960) Ai Weiwei (b. 1957) Sean Scully (b. 1945) Fang Chuxiong (b. 1950) Bruce Nauman (b. 1941) Wang Ziwu (b. 1936) Yue Minjun (b. 1962) Albert Oehlen (b. 1954) Antony Gormley (b. 1950) Xue Mang (b. 1956) Shang Yang (b. 1942) David Hammons (b. 1943) Chung Sang-Hwa (b. 1932) Zhou Yansheng (b. 1942) Liu Wenxi (b. 1933) Julie Mehretu (b. 1970) Fan Yang (b. 1955) Lin Yong (b. 1942) Richard Serra (b. 1939) Marc Quinn (b. 1964) Banksy (b. 1974) Tian Liming (b. 1955) Xu Lele (b. 1955) Wang Hualqing (b. 1944) Sterling Ruby (b. 1972) Yang Zhiguang (b. 1930) Wang Guangyi (b. 1957) Neo Rauch (b. 1960) Gilbert & George Robert Longo (b. 1953) Marlene Dumas (b. 1953) Ren Zhong (b. 1976) Bridget Riley (b. 1931) Howard Terpning (b. 1927) Tauba Auerbach (b. 1981) \"\n",
    "names = names.lower()\n",
    "names = names.replace(' ','-')\n",
    "names = re.split('[-]+\\(([^)]*)\\)+[-]', names)\n",
    "names = list(filter(lambda x: not x.startswith('b.'), names))\n",
    "\n",
    "#Convert the list of names in a list of urls\n",
    "artnet = 'http://www.artnet.com/artists/'\n",
    "urls = [artnet + h for h in names]\n",
    "\n",
    "#print(names)\n",
    "print (urls)\n"
   ]
  },
  {
   "cell_type": "code",
   "execution_count": 128,
   "metadata": {},
   "outputs": [],
   "source": [
    "# Web scraping, pickle imports\n",
    "import requests \n",
    "from urllib.error import HTTPError\n",
    "from bs4 import BeautifulSoup\n",
    "import pickle\n",
    "\n",
    "# Scrapes transcript data from scrapsfromtheloft.com\n",
    "def url_to_bio(url):\n",
    "    '''Returns bio data specifically from artnet.com.'''\n",
    "    try:\n",
    "        page = requests.get(url).text\n",
    "        soup = BeautifulSoup(page, \"lxml\")\n",
    "        text = [div.text for div in soup.find(class_=\"bio\").find_all('div')]\n",
    "    except AttributeError:\n",
    "        text = \"Not on artnet\"    \n",
    "\n",
    "    print(url)\n",
    "    return text\n",
    "\n",
    "\n",
    "# URLs of bios in scope;\n",
    "#urls = ['http://www.artnet.com/artists/gerhard-richter/',\n",
    "#        'http://www.artnet.com/artists/jeff-koons/',\n",
    "#        'http://www.artnet.com/artists/christopher-wool/',\n",
    "#        'http://www.artnet.com/artists/zeng-fanzhi/',\n",
    "#        'http://www.artnet.com/artists/yayoi-kusama/',\n",
    "#        'http://www.artnet.com/artists/richard-prince/',\n",
    "#        'http://www.artnet.com/artists/peter-doig/',\n",
    "#        'http://www.artnet.com/artists/fan-zeng/',\n",
    "#        'http://www.artnet.com/artists/ed-ruscha/',\n",
    "#        'http://www.artnet.com/artists/damien-hirst/',\n",
    "#        'http://www.artnet.com/artists/zhou-chunya/',\n",
    "#        'http://www.artnet.com/artists/zhang-xiaogang/']\n",
    "\n",
    "# artist names, back to normal\n",
    "artists = [a.replace('-', ' ') for a in names]"
   ]
  },
  {
   "cell_type": "code",
   "execution_count": 129,
   "metadata": {},
   "outputs": [
    {
     "name": "stdout",
     "output_type": "stream",
     "text": [
      "http://www.artnet.com/artists/gerhard-richter\n",
      "http://www.artnet.com/artists/jeff-koons\n",
      "http://www.artnet.com/artists/christopher-wool\n",
      "http://www.artnet.com/artists/cul-ruzhuo\n",
      "http://www.artnet.com/artists/zeng-fanzhi\n",
      "http://www.artnet.com/artists/yayoi-kusama\n",
      "http://www.artnet.com/artists/richard-prince\n",
      "http://www.artnet.com/artists/peter-doig\n",
      "http://www.artnet.com/artists/fan-zeng\n",
      "http://www.artnet.com/artists/ed-ruscha\n",
      "http://www.artnet.com/artists/damien-hirst\n",
      "http://www.artnet.com/artists/zhou-chunya\n",
      "http://www.artnet.com/artists/zhang-xiaogang\n",
      "http://www.artnet.com/artists/robert-ryman\n",
      "http://www.artnet.com/artists/wayne-thiebaud\n",
      "http://www.artnet.com/artists/he-jiaying\n",
      "http://www.artnet.com/artists/huang-yongyu\n",
      "http://www.artnet.com/artists/fernando-bolero\n",
      "http://www.artnet.com/artists/frank-stella\n",
      "http://www.artnet.com/artists/rudolf-stingel\n",
      "http://www.artnet.com/artists/jasper-johns\n",
      "http://www.artnet.com/artists/yoshitomo-nara\n",
      "http://www.artnet.com/artists/liu-wei\n",
      "http://www.artnet.com/artists/ju-ming\n",
      "http://www.artnet.com/artists/pierre-soulages\n",
      "http://www.artnet.com/artists/georg-baselitz\n",
      "http://www.artnet.com/artists/lee-wan\n",
      "http://www.artnet.com/artists/david-hockney\n",
      "http://www.artnet.com/artists/anselm-kiefer\n",
      "http://www.artnet.com/artists/enrico-castellani\n",
      "http://www.artnet.com/artists/cindy-sherman\n",
      "http://www.artnet.com/artists/anish-kapoor\n",
      "http://www.artnet.com/artists/mark-grotjahn\n",
      "http://www.artnet.com/artists/takashi-murakaml\n",
      "http://www.artnet.com/artists/luo-zhongli\n",
      "http://www.artnet.com/artists/robert-indiana\n",
      "http://www.artnet.com/artists/andreas-gursky\n",
      "http://www.artnet.com/artists/michelangelo-pistoletto\n",
      "http://www.artnet.com/artists/wade-guyton\n",
      "http://www.artnet.com/artists/wang-yidong\n",
      "http://www.artnet.com/artists/chen-peiqiu\n",
      "http://www.artnet.com/artists/brice-marden\n",
      "http://www.artnet.com/artists/jin-shangyi\n",
      "http://www.artnet.com/artists/fang-lijun\n",
      "http://www.artnet.com/artists/frank-auerbach\n",
      "http://www.artnet.com/artists/yang-feiyun\n",
      "http://www.artnet.com/artists/wang-mingming\n",
      "http://www.artnet.com/artists/shi-guoliang\n",
      "http://www.artnet.com/artists/liu-dawei\n",
      "http://www.artnet.com/artists/mark-tansey\n",
      "http://www.artnet.com/artists/gunther-uecker\n",
      "http://www.artnet.com/artists/jia-youfu\n",
      "http://www.artnet.com/artists/mark-bradford\n",
      "http://www.artnet.com/artists/ai-xuan\n",
      "http://www.artnet.com/artists/liu-ye\n",
      "http://www.artnet.com/artists/maurizio-cahalan\n",
      "http://www.artnet.com/artists/syed-haider-raza\n",
      "http://www.artnet.com/artists/george-condo\n",
      "http://www.artnet.com/artists/john-currin\n",
      "http://www.artnet.com/artists/glenn-brown\n",
      "http://www.artnet.com/artists/liu-xiaodong\n",
      "http://www.artnet.com/artists/urs-fischer\n",
      "http://www.artnet.com/artists/miquel-barcelo\n",
      "http://www.artnet.com/artists/thomas-schutte\n",
      "http://www.artnet.com/artists/liu-kuo-sung\n",
      "http://www.artnet.com/artists/glenn-ligon\n",
      "http://www.artnet.com/artists/ai-weiwei\n",
      "http://www.artnet.com/artists/sean-scully\n",
      "http://www.artnet.com/artists/fang-chuxiong\n",
      "http://www.artnet.com/artists/bruce-nauman\n",
      "http://www.artnet.com/artists/wang-ziwu\n",
      "http://www.artnet.com/artists/yue-minjun\n",
      "http://www.artnet.com/artists/albert-oehlen\n",
      "http://www.artnet.com/artists/antony-gormley\n",
      "http://www.artnet.com/artists/xue-mang\n",
      "http://www.artnet.com/artists/shang-yang\n",
      "http://www.artnet.com/artists/david-hammons\n",
      "http://www.artnet.com/artists/chung-sang-hwa\n",
      "http://www.artnet.com/artists/zhou-yansheng\n",
      "http://www.artnet.com/artists/liu-wenxi\n",
      "http://www.artnet.com/artists/julie-mehretu\n",
      "http://www.artnet.com/artists/fan-yang\n",
      "http://www.artnet.com/artists/lin-yong\n",
      "http://www.artnet.com/artists/richard-serra\n",
      "http://www.artnet.com/artists/marc-quinn\n",
      "http://www.artnet.com/artists/banksy\n",
      "http://www.artnet.com/artists/tian-liming\n",
      "http://www.artnet.com/artists/xu-lele\n",
      "http://www.artnet.com/artists/wang-hualqing\n",
      "http://www.artnet.com/artists/sterling-ruby\n",
      "http://www.artnet.com/artists/yang-zhiguang\n",
      "http://www.artnet.com/artists/wang-guangyi\n",
      "http://www.artnet.com/artists/neo-rauch\n",
      "http://www.artnet.com/artists/gilbert-&-george-robert-longo\n",
      "http://www.artnet.com/artists/marlene-dumas\n",
      "http://www.artnet.com/artists/ren-zhong\n",
      "http://www.artnet.com/artists/bridget-riley\n",
      "http://www.artnet.com/artists/howard-terpning\n",
      "http://www.artnet.com/artists/tauba-auerbach\n",
      "http://www.artnet.com/artists/\n"
     ]
    }
   ],
   "source": [
    "# # Actually request transcripts (takes a few minutes to run)\n",
    "bios = [url_to_bio(u) for u in urls]"
   ]
  },
  {
   "cell_type": "markdown",
   "metadata": {},
   "source": [
    "Yess, there are two links which should not be there or should have been split differently, but something to do for another time:\n",
    "http://www.artnet.com/artists/gilbert-&-george-robert-longo should be gilbert&george and robert longo, two different artists/groups\n",
    "and the last one: http://www.artnet.com/artists/ may need to remove it, which could do later on."
   ]
  },
  {
   "cell_type": "code",
   "execution_count": 132,
   "metadata": {},
   "outputs": [],
   "source": [
    "# # Pickle files for later use\n",
    "\n",
    "# # Make a new directory to hold the text files\n",
    "#import os\n",
    "\n",
    "!mkdir artist_bios\n",
    "artists = [a.replace(' ', '_') for a in names]\n",
    "\n",
    "for i, c in enumerate(artists):\n",
    "     with open(\"artist_bios/\" + c + \".txt\", \"wb\") as file:\n",
    "         pickle.dump(bios[i], file)"
   ]
  },
  {
   "cell_type": "code",
   "execution_count": 133,
   "metadata": {},
   "outputs": [],
   "source": [
    "# Load pickled files\n",
    "data = {}\n",
    "for i, c in enumerate(artists):\n",
    "    with open(\"artist_bios/\" + c + \".txt\", \"rb\") as file:\n",
    "        data[c] = pickle.load(file)"
   ]
  },
  {
   "cell_type": "code",
   "execution_count": 134,
   "metadata": {},
   "outputs": [
    {
     "data": {
      "text/plain": [
       "dict_keys(['gerhard-richter', 'jeff-koons', 'christopher-wool', 'cul-ruzhuo', 'zeng-fanzhi', 'yayoi-kusama', 'richard-prince', 'peter-doig', 'fan-zeng', 'ed-ruscha', 'damien-hirst', 'zhou-chunya', 'zhang-xiaogang', 'robert-ryman', 'wayne-thiebaud', 'he-jiaying', 'huang-yongyu', 'fernando-bolero', 'frank-stella', 'rudolf-stingel', 'jasper-johns', 'yoshitomo-nara', 'liu-wei', 'ju-ming', 'pierre-soulages', 'georg-baselitz', 'lee-wan', 'david-hockney', 'anselm-kiefer', 'enrico-castellani', 'cindy-sherman', 'anish-kapoor', 'mark-grotjahn', 'takashi-murakaml', 'luo-zhongli', 'robert-indiana', 'andreas-gursky', 'michelangelo-pistoletto', 'wade-guyton', 'wang-yidong', 'chen-peiqiu', 'brice-marden', 'jin-shangyi', 'fang-lijun', 'frank-auerbach', 'yang-feiyun', 'wang-mingming', 'shi-guoliang', 'liu-dawei', 'mark-tansey', 'gunther-uecker', 'jia-youfu', 'mark-bradford', 'ai-xuan', 'liu-ye', 'maurizio-cahalan', 'syed-haider-raza', 'george-condo', 'john-currin', 'glenn-brown', 'liu-xiaodong', 'urs-fischer', 'miquel-barcelo', 'thomas-schutte', 'liu-kuo-sung', 'glenn-ligon', 'ai-weiwei', 'sean-scully', 'fang-chuxiong', 'bruce-nauman', 'wang-ziwu', 'yue-minjun', 'albert-oehlen', 'antony-gormley', 'xue-mang', 'shang-yang', 'david-hammons', 'chung-sang-hwa', 'zhou-yansheng', 'liu-wenxi', 'julie-mehretu', 'fan-yang', 'lin-yong', 'richard-serra', 'marc-quinn', 'banksy', 'tian-liming', 'xu-lele', 'wang-hualqing', 'sterling-ruby', 'yang-zhiguang', 'wang-guangyi', 'neo-rauch', 'gilbert-&-george-robert-longo', 'marlene-dumas', 'ren-zhong', 'bridget-riley', 'howard-terpning', 'tauba-auerbach', ''])"
      ]
     },
     "execution_count": 134,
     "metadata": {},
     "output_type": "execute_result"
    }
   ],
   "source": [
    "# Double check to make sure data has been loaded properly\n",
    "data.keys()"
   ]
  },
  {
   "cell_type": "code",
   "execution_count": 135,
   "metadata": {},
   "outputs": [
    {
     "data": {
      "text/plain": [
       "['Gerhard Richter is a contemporary German painter considered among the most influential living artists. Richter’s experiments with abstraction and photo-based painting greatly contributed to the history of the medium. Culling from his vast image archive known as the Atlas, Richter’s paintings reference images of his daughter Betty, flickering candles, aerial photographs, portraits of criminals, and pastoral landscapes. “Pictures are the idea in visual or pictorial form,” he reflected. “And the idea has to be legible, both in the individual picture and in the collective context.” Born on February 9, 1932 in Dresden, Germany during the rise of the Nazi regime. After World War II, living in East Germany under Soviet rule, Richter learned to produce of highly realistic Socialist Realist murals. In 1961, Richter fled to West Germany, where he studied at the Kunstakademie Düsseldorf alongside Sigmar Polke. During this time, the artist first began producing blurred photo-paintings. The works explore the conflicting nature of an image’s formal make up and the content it contains. Richter introduced abstraction to his repertoire in the following decades, analyzing painterly expression through a technique of squeegeeing paint over the canvas. In 2012, Richter set a record auction price for a painting sold by a living artist, with his Abstraktes Bild (809-4) (1994) which went for $34 million. He broke this twice again, first in 2013 with Domplatz, Mailand (Cathedral square, Milan) (1968) selling for $37.1 million, then in 2015 by the sale of Abstraktes Bild (1986) for $44.52 million. The artist currently lives and works in Cologne, Germany. Today, his works are held in the collections of the Art Institute of Chicago, The Museum of Modern Art in New York, the Tate Gallery in London, and the Albertina in Vienna, among others.']"
      ]
     },
     "execution_count": 135,
     "metadata": {},
     "output_type": "execute_result"
    }
   ],
   "source": [
    "# More checks\n",
    "data['gerhard-richter'][:2]"
   ]
  },
  {
   "cell_type": "markdown",
   "metadata": {},
   "source": [
    "## Cleaning The Data"
   ]
  },
  {
   "cell_type": "markdown",
   "metadata": {},
   "source": [
    "My data is pretty clean, so i don't need to remove or add anything to it. I wanted to note here a big difference between my thinking/understanding and Alice's (adashofdata) suggestions around cleaning. What she means by cleaning, is actually mostly pre-processing, and it is incorrect to assume that these steps won't affect your analysis. For example, she looks at comedians' skits, where the use of pronouns could be a major difference, especially if you wanted to understand whether the comedian mostly identifies with the jokes or writes jokes about others. \n",
    "\n",
    "In my case, I am looking at bios for artists. I don't want to remove the capitals, because they would denote the name of their works etc, which could be useful to extract. Also, I don't want to remove numbers, as these may be related to years. \n",
    "\n",
    "Some **pre-processing** steps could be useful. At this point, I don't know which ones. I am firstly interested in two things:\n",
    "- try word embeddings\n",
    "- try to extract gender information\n",
    "- try to extract other named entities, like artist origin, or places they've potentially been to"
   ]
  },
  {
   "cell_type": "code",
   "execution_count": 136,
   "metadata": {},
   "outputs": [
    {
     "data": {
      "text/plain": [
       "'gerhard-richter'"
      ]
     },
     "execution_count": 136,
     "metadata": {},
     "output_type": "execute_result"
    }
   ],
   "source": [
    "# Let's take a look at our data again\n",
    "next(iter(data.keys()))"
   ]
  },
  {
   "cell_type": "code",
   "execution_count": 137,
   "metadata": {},
   "outputs": [
    {
     "data": {
      "text/plain": [
       "['Gerhard Richter is a contemporary German painter considered among the most influential living artists. Richter’s experiments with abstraction and photo-based painting greatly contributed to the history of the medium. Culling from his vast image archive known as the Atlas, Richter’s paintings reference images of his daughter Betty, flickering candles, aerial photographs, portraits of criminals, and pastoral landscapes. “Pictures are the idea in visual or pictorial form,” he reflected. “And the idea has to be legible, both in the individual picture and in the collective context.” Born on February 9, 1932 in Dresden, Germany during the rise of the Nazi regime. After World War II, living in East Germany under Soviet rule, Richter learned to produce of highly realistic Socialist Realist murals. In 1961, Richter fled to West Germany, where he studied at the Kunstakademie Düsseldorf alongside Sigmar Polke. During this time, the artist first began producing blurred photo-paintings. The works explore the conflicting nature of an image’s formal make up and the content it contains. Richter introduced abstraction to his repertoire in the following decades, analyzing painterly expression through a technique of squeegeeing paint over the canvas. In 2012, Richter set a record auction price for a painting sold by a living artist, with his Abstraktes Bild (809-4) (1994) which went for $34 million. He broke this twice again, first in 2013 with Domplatz, Mailand (Cathedral square, Milan) (1968) selling for $37.1 million, then in 2015 by the sale of Abstraktes Bild (1986) for $44.52 million. The artist currently lives and works in Cologne, Germany. Today, his works are held in the collections of the Art Institute of Chicago, The Museum of Modern Art in New York, the Tate Gallery in London, and the Albertina in Vienna, among others.']"
      ]
     },
     "execution_count": 137,
     "metadata": {},
     "output_type": "execute_result"
    }
   ],
   "source": [
    "# Notice that our dictionary is currently in key: artist, value: list of text format\n",
    "next(iter(data.values()))"
   ]
  },
  {
   "cell_type": "code",
   "execution_count": 138,
   "metadata": {},
   "outputs": [],
   "source": [
    "# We are going to change this to key: artist, value: string format\n",
    "def combine_text(list_of_text):\n",
    "    '''Takes a list of text and combines them into one large chunk of text.'''\n",
    "    combined_text = ' '.join(list_of_text)\n",
    "    return combined_text"
   ]
  },
  {
   "cell_type": "code",
   "execution_count": 139,
   "metadata": {},
   "outputs": [],
   "source": [
    "# Combine it!\n",
    "data_combined = {key: [combine_text(value)] for (key, value) in data.items()}"
   ]
  },
  {
   "cell_type": "code",
   "execution_count": 140,
   "metadata": {},
   "outputs": [
    {
     "data": {
      "text/html": [
       "<div>\n",
       "<style scoped>\n",
       "    .dataframe tbody tr th:only-of-type {\n",
       "        vertical-align: middle;\n",
       "    }\n",
       "\n",
       "    .dataframe tbody tr th {\n",
       "        vertical-align: top;\n",
       "    }\n",
       "\n",
       "    .dataframe thead th {\n",
       "        text-align: right;\n",
       "    }\n",
       "</style>\n",
       "<table border=\"1\" class=\"dataframe\">\n",
       "  <thead>\n",
       "    <tr style=\"text-align: right;\">\n",
       "      <th></th>\n",
       "      <th>bios</th>\n",
       "    </tr>\n",
       "  </thead>\n",
       "  <tbody>\n",
       "    <tr>\n",
       "      <th></th>\n",
       "      <td>N o t   o n   a r t n e t</td>\n",
       "    </tr>\n",
       "    <tr>\n",
       "      <th>ai-weiwei</th>\n",
       "      <td>Ai Weiwei is one of the best known artists working today. His provocative blend of Chinese history and tradition within a wholly contemporary prac...</td>\n",
       "    </tr>\n",
       "    <tr>\n",
       "      <th>ai-xuan</th>\n",
       "      <td>N o t   o n   a r t n e t</td>\n",
       "    </tr>\n",
       "    <tr>\n",
       "      <th>albert-oehlen</th>\n",
       "      <td>N o t   o n   a r t n e t</td>\n",
       "    </tr>\n",
       "    <tr>\n",
       "      <th>andreas-gursky</th>\n",
       "      <td>Andreas Gursky is a German artist known for his large-scale digitally manipulated images. Similar in scope to early 19th-century landscape paintin...</td>\n",
       "    </tr>\n",
       "    <tr>\n",
       "      <th>...</th>\n",
       "      <td>...</td>\n",
       "    </tr>\n",
       "    <tr>\n",
       "      <th>yue-minjun</th>\n",
       "      <td>Yue Minjun is a contemporary Chinese artist known for his inventive take on self-portraiture. Grouped into the Cynical Realism movement in China, ...</td>\n",
       "    </tr>\n",
       "    <tr>\n",
       "      <th>zeng-fanzhi</th>\n",
       "      <td>Zeng Fanzhi is a contemporary Chinese painter. Known for his Expressionist and psychologically probing portraits, he depicts human faces with vivi...</td>\n",
       "    </tr>\n",
       "    <tr>\n",
       "      <th>zhang-xiaogang</th>\n",
       "      <td>Zhang Xiaogang is a Chinese painter and preeminent member of the contemporary Chinese avant-garde. His Surrealist-inspired, stylized portraits exe...</td>\n",
       "    </tr>\n",
       "    <tr>\n",
       "      <th>zhou-chunya</th>\n",
       "      <td>Zhou Chunya is a Chinese painter best known for his Green Dog series of paintings. In this wide-ranging body of work, Zhou depicts a bright green ...</td>\n",
       "    </tr>\n",
       "    <tr>\n",
       "      <th>zhou-yansheng</th>\n",
       "      <td>N o t   o n   a r t n e t</td>\n",
       "    </tr>\n",
       "  </tbody>\n",
       "</table>\n",
       "<p>100 rows × 1 columns</p>\n",
       "</div>"
      ],
      "text/plain": [
       "                                                                                                                                                                 bios\n",
       "                                                                                                                                            N o t   o n   a r t n e t\n",
       "ai-weiwei       Ai Weiwei is one of the best known artists working today. His provocative blend of Chinese history and tradition within a wholly contemporary prac...\n",
       "ai-xuan                                                                                                                                     N o t   o n   a r t n e t\n",
       "albert-oehlen                                                                                                                               N o t   o n   a r t n e t\n",
       "andreas-gursky  Andreas Gursky is a German artist known for his large-scale digitally manipulated images. Similar in scope to early 19th-century landscape paintin...\n",
       "...                                                                                                                                                               ...\n",
       "yue-minjun      Yue Minjun is a contemporary Chinese artist known for his inventive take on self-portraiture. Grouped into the Cynical Realism movement in China, ...\n",
       "zeng-fanzhi     Zeng Fanzhi is a contemporary Chinese painter. Known for his Expressionist and psychologically probing portraits, he depicts human faces with vivi...\n",
       "zhang-xiaogang  Zhang Xiaogang is a Chinese painter and preeminent member of the contemporary Chinese avant-garde. His Surrealist-inspired, stylized portraits exe...\n",
       "zhou-chunya     Zhou Chunya is a Chinese painter best known for his Green Dog series of paintings. In this wide-ranging body of work, Zhou depicts a bright green ...\n",
       "zhou-yansheng                                                                                                                               N o t   o n   a r t n e t\n",
       "\n",
       "[100 rows x 1 columns]"
      ]
     },
     "execution_count": 140,
     "metadata": {},
     "output_type": "execute_result"
    }
   ],
   "source": [
    "# We can either keep it in dictionary format or put it into a pandas dataframe\n",
    "import pandas as pd\n",
    "pd.set_option('max_colwidth',150)\n",
    "\n",
    "data_df = pd.DataFrame.from_dict(data_combined).transpose()\n",
    "data_df.columns = ['bios']\n",
    "data_df = data_df.sort_index()\n",
    "data_df"
   ]
  },
  {
   "cell_type": "code",
   "execution_count": 141,
   "metadata": {},
   "outputs": [],
   "source": [
    "# Apply a first round of text cleaning techniques; already imported re and string\n",
    "#import re\n",
    "#import string\n",
    "\n",
    "def clean_text_round1(text):\n",
    "    '''Make text lowercase, remove text in square brackets, remove punctuation and remove words containing numbers.'''\n",
    "    #text = text.lower()\n",
    "    #text = re.sub('\\[.*?\\]', '', text)\n",
    "    text = re.sub('[%s]' % re.escape(string.punctuation), '', text)\n",
    "    #text = re.sub('\\w*\\d\\w*', '', text)\n",
    "    return text\n",
    "\n",
    "round1 = lambda x: clean_text_round1(x)"
   ]
  },
  {
   "cell_type": "code",
   "execution_count": 143,
   "metadata": {},
   "outputs": [
    {
     "data": {
      "text/html": [
       "<div>\n",
       "<style scoped>\n",
       "    .dataframe tbody tr th:only-of-type {\n",
       "        vertical-align: middle;\n",
       "    }\n",
       "\n",
       "    .dataframe tbody tr th {\n",
       "        vertical-align: top;\n",
       "    }\n",
       "\n",
       "    .dataframe thead th {\n",
       "        text-align: right;\n",
       "    }\n",
       "</style>\n",
       "<table border=\"1\" class=\"dataframe\">\n",
       "  <thead>\n",
       "    <tr style=\"text-align: right;\">\n",
       "      <th></th>\n",
       "      <th>bios</th>\n",
       "    </tr>\n",
       "  </thead>\n",
       "  <tbody>\n",
       "    <tr>\n",
       "      <th></th>\n",
       "      <td>N o t   o n   a r t n e t</td>\n",
       "    </tr>\n",
       "    <tr>\n",
       "      <th>ai-weiwei</th>\n",
       "      <td>Ai Weiwei is one of the best known artists working today His provocative blend of Chinese history and tradition within a wholly contemporary pract...</td>\n",
       "    </tr>\n",
       "    <tr>\n",
       "      <th>ai-xuan</th>\n",
       "      <td>N o t   o n   a r t n e t</td>\n",
       "    </tr>\n",
       "    <tr>\n",
       "      <th>albert-oehlen</th>\n",
       "      <td>N o t   o n   a r t n e t</td>\n",
       "    </tr>\n",
       "    <tr>\n",
       "      <th>andreas-gursky</th>\n",
       "      <td>Andreas Gursky is a German artist known for his largescale digitally manipulated images Similar in scope to early 19thcentury landscape paintings ...</td>\n",
       "    </tr>\n",
       "    <tr>\n",
       "      <th>...</th>\n",
       "      <td>...</td>\n",
       "    </tr>\n",
       "    <tr>\n",
       "      <th>yue-minjun</th>\n",
       "      <td>Yue Minjun is a contemporary Chinese artist known for his inventive take on selfportraiture Grouped into the Cynical Realism movement in China alo...</td>\n",
       "    </tr>\n",
       "    <tr>\n",
       "      <th>zeng-fanzhi</th>\n",
       "      <td>Zeng Fanzhi is a contemporary Chinese painter Known for his Expressionist and psychologically probing portraits he depicts human faces with vivid ...</td>\n",
       "    </tr>\n",
       "    <tr>\n",
       "      <th>zhang-xiaogang</th>\n",
       "      <td>Zhang Xiaogang is a Chinese painter and preeminent member of the contemporary Chinese avantgarde His Surrealistinspired stylized portraits execute...</td>\n",
       "    </tr>\n",
       "    <tr>\n",
       "      <th>zhou-chunya</th>\n",
       "      <td>Zhou Chunya is a Chinese painter best known for his Green Dog series of paintings In this wideranging body of work Zhou depicts a bright green Ger...</td>\n",
       "    </tr>\n",
       "    <tr>\n",
       "      <th>zhou-yansheng</th>\n",
       "      <td>N o t   o n   a r t n e t</td>\n",
       "    </tr>\n",
       "  </tbody>\n",
       "</table>\n",
       "<p>100 rows × 1 columns</p>\n",
       "</div>"
      ],
      "text/plain": [
       "                                                                                                                                                                 bios\n",
       "                                                                                                                                            N o t   o n   a r t n e t\n",
       "ai-weiwei       Ai Weiwei is one of the best known artists working today His provocative blend of Chinese history and tradition within a wholly contemporary pract...\n",
       "ai-xuan                                                                                                                                     N o t   o n   a r t n e t\n",
       "albert-oehlen                                                                                                                               N o t   o n   a r t n e t\n",
       "andreas-gursky  Andreas Gursky is a German artist known for his largescale digitally manipulated images Similar in scope to early 19thcentury landscape paintings ...\n",
       "...                                                                                                                                                               ...\n",
       "yue-minjun      Yue Minjun is a contemporary Chinese artist known for his inventive take on selfportraiture Grouped into the Cynical Realism movement in China alo...\n",
       "zeng-fanzhi     Zeng Fanzhi is a contemporary Chinese painter Known for his Expressionist and psychologically probing portraits he depicts human faces with vivid ...\n",
       "zhang-xiaogang  Zhang Xiaogang is a Chinese painter and preeminent member of the contemporary Chinese avantgarde His Surrealistinspired stylized portraits execute...\n",
       "zhou-chunya     Zhou Chunya is a Chinese painter best known for his Green Dog series of paintings In this wideranging body of work Zhou depicts a bright green Ger...\n",
       "zhou-yansheng                                                                                                                               N o t   o n   a r t n e t\n",
       "\n",
       "[100 rows x 1 columns]"
      ]
     },
     "execution_count": 143,
     "metadata": {},
     "output_type": "execute_result"
    }
   ],
   "source": [
    "# Let's take a look at the updated text\n",
    "data_clean = pd.DataFrame(data_df.bios.apply(round1))\n",
    "data_clean"
   ]
  },
  {
   "cell_type": "markdown",
   "metadata": {},
   "source": [
    "**NOTE:** This data cleaning aka text pre-processing step could go on for a while, but we are going to stop for now. After going through some analysis techniques, if you see that the results don't make sense or could be improved, you can come back and make more edits such as:\n",
    "* Mark 'cheering' and 'cheer' as the same word (stemming / lemmatization)\n",
    "* Combine 'thank you' into one term (bi-grams)\n",
    "* And a lot more..."
   ]
  },
  {
   "cell_type": "markdown",
   "metadata": {},
   "source": [
    "## Organizing The Data"
   ]
  },
  {
   "cell_type": "markdown",
   "metadata": {},
   "source": [
    "I mentioned earlier that the output of this notebook will be clean, organized data in two standard text formats:\n",
    "1. **Corpus - **a collection of text\n",
    "2. **Document-Term Matrix - **word counts in matrix format"
   ]
  },
  {
   "cell_type": "markdown",
   "metadata": {},
   "source": [
    "### Corpus"
   ]
  },
  {
   "cell_type": "markdown",
   "metadata": {},
   "source": [
    "We already created a corpus in an earlier step. The definition of a corpus is a collection of texts, and they are all put together neatly in a pandas dataframe here."
   ]
  },
  {
   "cell_type": "code",
   "execution_count": 144,
   "metadata": {},
   "outputs": [
    {
     "data": {
      "text/html": [
       "<div>\n",
       "<style scoped>\n",
       "    .dataframe tbody tr th:only-of-type {\n",
       "        vertical-align: middle;\n",
       "    }\n",
       "\n",
       "    .dataframe tbody tr th {\n",
       "        vertical-align: top;\n",
       "    }\n",
       "\n",
       "    .dataframe thead th {\n",
       "        text-align: right;\n",
       "    }\n",
       "</style>\n",
       "<table border=\"1\" class=\"dataframe\">\n",
       "  <thead>\n",
       "    <tr style=\"text-align: right;\">\n",
       "      <th></th>\n",
       "      <th>bios</th>\n",
       "    </tr>\n",
       "  </thead>\n",
       "  <tbody>\n",
       "    <tr>\n",
       "      <th></th>\n",
       "      <td>N o t   o n   a r t n e t</td>\n",
       "    </tr>\n",
       "    <tr>\n",
       "      <th>ai-weiwei</th>\n",
       "      <td>Ai Weiwei is one of the best known artists working today. His provocative blend of Chinese history and tradition within a wholly contemporary prac...</td>\n",
       "    </tr>\n",
       "    <tr>\n",
       "      <th>ai-xuan</th>\n",
       "      <td>N o t   o n   a r t n e t</td>\n",
       "    </tr>\n",
       "    <tr>\n",
       "      <th>albert-oehlen</th>\n",
       "      <td>N o t   o n   a r t n e t</td>\n",
       "    </tr>\n",
       "    <tr>\n",
       "      <th>andreas-gursky</th>\n",
       "      <td>Andreas Gursky is a German artist known for his large-scale digitally manipulated images. Similar in scope to early 19th-century landscape paintin...</td>\n",
       "    </tr>\n",
       "    <tr>\n",
       "      <th>...</th>\n",
       "      <td>...</td>\n",
       "    </tr>\n",
       "    <tr>\n",
       "      <th>yue-minjun</th>\n",
       "      <td>Yue Minjun is a contemporary Chinese artist known for his inventive take on self-portraiture. Grouped into the Cynical Realism movement in China, ...</td>\n",
       "    </tr>\n",
       "    <tr>\n",
       "      <th>zeng-fanzhi</th>\n",
       "      <td>Zeng Fanzhi is a contemporary Chinese painter. Known for his Expressionist and psychologically probing portraits, he depicts human faces with vivi...</td>\n",
       "    </tr>\n",
       "    <tr>\n",
       "      <th>zhang-xiaogang</th>\n",
       "      <td>Zhang Xiaogang is a Chinese painter and preeminent member of the contemporary Chinese avant-garde. His Surrealist-inspired, stylized portraits exe...</td>\n",
       "    </tr>\n",
       "    <tr>\n",
       "      <th>zhou-chunya</th>\n",
       "      <td>Zhou Chunya is a Chinese painter best known for his Green Dog series of paintings. In this wide-ranging body of work, Zhou depicts a bright green ...</td>\n",
       "    </tr>\n",
       "    <tr>\n",
       "      <th>zhou-yansheng</th>\n",
       "      <td>N o t   o n   a r t n e t</td>\n",
       "    </tr>\n",
       "  </tbody>\n",
       "</table>\n",
       "<p>100 rows × 1 columns</p>\n",
       "</div>"
      ],
      "text/plain": [
       "                                                                                                                                                                 bios\n",
       "                                                                                                                                            N o t   o n   a r t n e t\n",
       "ai-weiwei       Ai Weiwei is one of the best known artists working today. His provocative blend of Chinese history and tradition within a wholly contemporary prac...\n",
       "ai-xuan                                                                                                                                     N o t   o n   a r t n e t\n",
       "albert-oehlen                                                                                                                               N o t   o n   a r t n e t\n",
       "andreas-gursky  Andreas Gursky is a German artist known for his large-scale digitally manipulated images. Similar in scope to early 19th-century landscape paintin...\n",
       "...                                                                                                                                                               ...\n",
       "yue-minjun      Yue Minjun is a contemporary Chinese artist known for his inventive take on self-portraiture. Grouped into the Cynical Realism movement in China, ...\n",
       "zeng-fanzhi     Zeng Fanzhi is a contemporary Chinese painter. Known for his Expressionist and psychologically probing portraits, he depicts human faces with vivi...\n",
       "zhang-xiaogang  Zhang Xiaogang is a Chinese painter and preeminent member of the contemporary Chinese avant-garde. His Surrealist-inspired, stylized portraits exe...\n",
       "zhou-chunya     Zhou Chunya is a Chinese painter best known for his Green Dog series of paintings. In this wide-ranging body of work, Zhou depicts a bright green ...\n",
       "zhou-yansheng                                                                                                                               N o t   o n   a r t n e t\n",
       "\n",
       "[100 rows x 1 columns]"
      ]
     },
     "execution_count": 144,
     "metadata": {},
     "output_type": "execute_result"
    }
   ],
   "source": [
    "# Let's take a look at our dataframe\n",
    "data_df"
   ]
  },
  {
   "cell_type": "code",
   "execution_count": 145,
   "metadata": {},
   "outputs": [],
   "source": [
    "# Let's pickle it for later use\n",
    "data_df.to_pickle(\"corpus.pkl\")"
   ]
  },
  {
   "cell_type": "markdown",
   "metadata": {},
   "source": [
    "### Document-Term Matrix"
   ]
  },
  {
   "cell_type": "markdown",
   "metadata": {},
   "source": [
    "For many of the techniques we'll be using in future notebooks, the text must be tokenized, meaning broken down into smaller pieces. The most common tokenization technique is to break down text into words. We can do this using scikit-learn's CountVectorizer, where every row will represent a different document and every column will represent a different word.\n",
    "\n",
    "In addition, with CountVectorizer, we can remove stop words. Stop words are common words that add no additional meaning to text such as 'a', 'the', etc."
   ]
  },
  {
   "cell_type": "code",
   "execution_count": null,
   "metadata": {},
   "outputs": [],
   "source": [
    "# We are going to create a document-term matrix using CountVectorizer, and exclude common English stop words\n",
    "from sklearn.feature_extraction.text import CountVectorizer\n",
    "\n",
    "cv = CountVectorizer(stop_words='english')\n",
    "data_cv = cv.fit_transform(data_clean.transcript)\n",
    "data_dtm = pd.DataFrame(data_cv.toarray(), columns=cv.get_feature_names())\n",
    "data_dtm.index = data_clean.index\n",
    "data_dtm"
   ]
  },
  {
   "cell_type": "code",
   "execution_count": null,
   "metadata": {
    "collapsed": true
   },
   "outputs": [],
   "source": [
    "# Let's pickle it for later use\n",
    "data_dtm.to_pickle(\"dtm.pkl\")"
   ]
  },
  {
   "cell_type": "code",
   "execution_count": null,
   "metadata": {
    "collapsed": true
   },
   "outputs": [],
   "source": [
    "# Let's also pickle the cleaned data (before we put it in document-term matrix format) and the CountVectorizer object\n",
    "data_clean.to_pickle('data_clean.pkl')\n",
    "pickle.dump(cv, open(\"cv.pkl\", \"wb\"))"
   ]
  },
  {
   "cell_type": "markdown",
   "metadata": {
    "collapsed": true
   },
   "source": [
    "## Additional Exercises"
   ]
  },
  {
   "cell_type": "markdown",
   "metadata": {},
   "source": [
    "1. Can you add an additional regular expression to the clean_text_round2 function to further clean the text?\n",
    "2. Play around with CountVectorizer's parameters. What is ngram_range? What is min_df and max_df?"
   ]
  },
  {
   "cell_type": "code",
   "execution_count": null,
   "metadata": {
    "collapsed": true
   },
   "outputs": [],
   "source": []
  }
 ],
 "metadata": {
  "kernelspec": {
   "display_name": "Python 3",
   "language": "python",
   "name": "python3"
  },
  "language_info": {
   "codemirror_mode": {
    "name": "ipython",
    "version": 3
   },
   "file_extension": ".py",
   "mimetype": "text/x-python",
   "name": "python",
   "nbconvert_exporter": "python",
   "pygments_lexer": "ipython3",
   "version": "3.7.6"
  },
  "toc": {
   "nav_menu": {},
   "number_sections": true,
   "sideBar": true,
   "skip_h1_title": false,
   "toc_cell": false,
   "toc_position": {},
   "toc_section_display": "block",
   "toc_window_display": false
  },
  "varInspector": {
   "cols": {
    "lenName": 16,
    "lenType": 16,
    "lenVar": 40
   },
   "kernels_config": {
    "python": {
     "delete_cmd_postfix": "",
     "delete_cmd_prefix": "del ",
     "library": "var_list.py",
     "varRefreshCmd": "print(var_dic_list())"
    },
    "r": {
     "delete_cmd_postfix": ") ",
     "delete_cmd_prefix": "rm(",
     "library": "var_list.r",
     "varRefreshCmd": "cat(var_dic_list()) "
    }
   },
   "types_to_exclude": [
    "module",
    "function",
    "builtin_function_or_method",
    "instance",
    "_Feature"
   ],
   "window_display": false
  }
 },
 "nbformat": 4,
 "nbformat_minor": 2
}
